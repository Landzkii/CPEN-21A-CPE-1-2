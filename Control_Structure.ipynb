{
  "nbformat": 4,
  "nbformat_minor": 0,
  "metadata": {
    "colab": {
      "name": "Control Structure.ipynb",
      "provenance": [],
      "authorship_tag": "ABX9TyNZxgAX8EY4LflvyKZx+8fD",
      "include_colab_link": true
    },
    "kernelspec": {
      "name": "python3",
      "display_name": "Python 3"
    },
    "language_info": {
      "name": "python"
    }
  },
  "cells": [
    {
      "cell_type": "markdown",
      "metadata": {
        "id": "view-in-github",
        "colab_type": "text"
      },
      "source": [
        "<a href=\"https://colab.research.google.com/github/Landzkii/CPEN-21A-CPE-1-2/blob/main/Control_Structure.ipynb\" target=\"_parent\"><img src=\"https://colab.research.google.com/assets/colab-badge.svg\" alt=\"Open In Colab\"/></a>"
      ]
    },
    {
      "cell_type": "markdown",
      "metadata": {
        "id": "F8GveB_RHrzw"
      },
      "source": [
        "## If Statement"
      ]
    },
    {
      "cell_type": "code",
      "metadata": {
        "colab": {
          "base_uri": "https://localhost:8080/"
        },
        "id": "RKzq6-mQHwAA",
        "outputId": "a0bcbd8f-0b88-46ce-bd2d-40f27b25eaeb"
      },
      "source": [
        "a=12\n",
        "b=100\n",
        "\n",
        "if b>a:\n",
        "  print(\"b is greater than a\")"
      ],
      "execution_count": 1,
      "outputs": [
        {
          "output_type": "stream",
          "name": "stdout",
          "text": [
            "b is greater than a\n"
          ]
        }
      ]
    },
    {
      "cell_type": "markdown",
      "metadata": {
        "id": "gKdvRkKKIImw"
      },
      "source": [
        "##Elif Statement"
      ]
    },
    {
      "cell_type": "code",
      "metadata": {
        "colab": {
          "base_uri": "https://localhost:8080/"
        },
        "id": "ABsyASkGIKrP",
        "outputId": "6d533556-e771-436d-d2f9-49b630a3836c"
      },
      "source": [
        "a=120\n",
        "b=100\n",
        "\n",
        "if b>a:\n",
        "  print(\"b is greater than a\")\n",
        "elif a>b:\n",
        "  print(\"a is greater than b\")\n"
      ],
      "execution_count": 3,
      "outputs": [
        {
          "output_type": "stream",
          "name": "stdout",
          "text": [
            "a is greater than b\n"
          ]
        }
      ]
    },
    {
      "cell_type": "markdown",
      "metadata": {
        "id": "Dlgo8TV9Is-x"
      },
      "source": [
        "##Else Statement"
      ]
    },
    {
      "cell_type": "code",
      "metadata": {
        "colab": {
          "base_uri": "https://localhost:8080/"
        },
        "id": "eXmszKWPIvOY",
        "outputId": "7e3875da-9008-4f39-8dea-5765d2c8eead"
      },
      "source": [
        "a=100\n",
        "b=100\n",
        "\n",
        "if b>a:\n",
        "  print(\"b is greater than a\")\n",
        "elif a>b:\n",
        "  print(\"a is greater than b\")\n",
        "else:\n",
        "  print(\"a and b is equal\")"
      ],
      "execution_count": 4,
      "outputs": [
        {
          "output_type": "stream",
          "name": "stdout",
          "text": [
            "a and b is equal\n"
          ]
        }
      ]
    },
    {
      "cell_type": "markdown",
      "metadata": {
        "id": "MKyZrHT-JkKQ"
      },
      "source": [
        "##Short Hand If Statement"
      ]
    },
    {
      "cell_type": "code",
      "metadata": {
        "colab": {
          "base_uri": "https://localhost:8080/"
        },
        "id": "48GhtgvpJpz0",
        "outputId": "1cbf6542-a2ab-475e-a1b3-5491bf737348"
      },
      "source": [
        "a=45\n",
        "b=30\n",
        "\n",
        "if a>b: print(\"a  is greater than b\")"
      ],
      "execution_count": 5,
      "outputs": [
        {
          "output_type": "stream",
          "name": "stdout",
          "text": [
            "a  is greater than b\n"
          ]
        }
      ]
    },
    {
      "cell_type": "markdown",
      "metadata": {
        "id": "8pDNpKOiJxjh"
      },
      "source": [
        "##Short Hand Else Statement"
      ]
    },
    {
      "cell_type": "code",
      "metadata": {
        "colab": {
          "base_uri": "https://localhost:8080/"
        },
        "id": "G8SxPN1AJ1B4",
        "outputId": "d16d81b9-702f-4851-c38d-b342ad965650"
      },
      "source": [
        "a=30\n",
        "b=45\n",
        "\n",
        "print(\"a is greater than b\") if a>b else print(\"b is greater than a\")"
      ],
      "execution_count": 7,
      "outputs": [
        {
          "output_type": "stream",
          "name": "stdout",
          "text": [
            "b is greater than a\n"
          ]
        }
      ]
    },
    {
      "cell_type": "markdown",
      "metadata": {
        "id": "IGaPq3HbK3pf"
      },
      "source": [
        "##And logic condition"
      ]
    },
    {
      "cell_type": "code",
      "metadata": {
        "colab": {
          "base_uri": "https://localhost:8080/"
        },
        "id": "c7124IpxK7uQ",
        "outputId": "06a2e318-15c1-465f-b754-e6f2c0dca7f3"
      },
      "source": [
        "x=7\n",
        "\n",
        "if x>5 and x>6:\n",
        "  print(\"Both conditions are true\")"
      ],
      "execution_count": 8,
      "outputs": [
        {
          "output_type": "stream",
          "name": "stdout",
          "text": [
            "Both conditions are true\n"
          ]
        }
      ]
    },
    {
      "cell_type": "markdown",
      "metadata": {
        "id": "SdcX7XTZLMzO"
      },
      "source": [
        "##Or logic condition"
      ]
    },
    {
      "cell_type": "code",
      "metadata": {
        "colab": {
          "base_uri": "https://localhost:8080/"
        },
        "id": "SffTa6TLLP0f",
        "outputId": "ff6cd357-1edb-4989-cab6-f7a1e9cf0b1b"
      },
      "source": [
        "x=18\n",
        "\n",
        "if x>18 or x<15:\n",
        "  print(\"True\")\n",
        "else:\n",
        "  print(\"False\")"
      ],
      "execution_count": 10,
      "outputs": [
        {
          "output_type": "stream",
          "name": "stdout",
          "text": [
            "False\n"
          ]
        }
      ]
    },
    {
      "cell_type": "code",
      "metadata": {
        "colab": {
          "base_uri": "https://localhost:8080/"
        },
        "id": "GdDbcMB6MIP-",
        "outputId": "484b2d0b-e62e-404d-e664-5218f520a601"
      },
      "source": [
        "if x>10:\n",
        "  print(\"Above 10\")\n",
        "  if x>20:\n",
        "    print(\"Above 20\")\n",
        "  else:\n",
        "    print(\"below 20\")\n",
        "else:\n",
        "  print(\"less than 10\")"
      ],
      "execution_count": 11,
      "outputs": [
        {
          "output_type": "stream",
          "name": "stdout",
          "text": [
            "Above 10\n",
            "below 20\n"
          ]
        }
      ]
    },
    {
      "cell_type": "markdown",
      "metadata": {
        "id": "T-YerXkeM1ta"
      },
      "source": [
        "##Example 1"
      ]
    },
    {
      "cell_type": "code",
      "metadata": {
        "colab": {
          "base_uri": "https://localhost:8080/"
        },
        "id": "vhsAu0BXM52w",
        "outputId": "c4b2135e-a470-4394-edf4-6eca6c35e91c"
      },
      "source": [
        "age=int(input(\"Enter your age:\"))\n",
        "\n",
        "if age>=18:\n",
        "  print(\"You are qualified to vote\")\n",
        "else:\n",
        "  print(\"You are not qualified to vote\")"
      ],
      "execution_count": 14,
      "outputs": [
        {
          "output_type": "stream",
          "name": "stdout",
          "text": [
            "Enter your age:10\n",
            "You are not qualified to vote\n"
          ]
        }
      ]
    },
    {
      "cell_type": "markdown",
      "metadata": {
        "id": "1wx5bJq_NlB_"
      },
      "source": [
        "##Example 2"
      ]
    },
    {
      "cell_type": "code",
      "metadata": {
        "colab": {
          "base_uri": "https://localhost:8080/"
        },
        "id": "f3-qhGXpNnhI",
        "outputId": "37b65f4a-8f80-43dc-ec33-afd2f85149bb"
      },
      "source": [
        "number=float(input(\"Enter the number:\"))\n",
        "\n",
        "if number==0:\n",
        "  print(\"Zero\")\n",
        "elif number>0:\n",
        "  print(\"Positive\")\n",
        "else:\n",
        "  print(\"Negative\")"
      ],
      "execution_count": 17,
      "outputs": [
        {
          "output_type": "stream",
          "name": "stdout",
          "text": [
            "Enter the number:-100\n",
            "Negative\n"
          ]
        }
      ]
    },
    {
      "cell_type": "markdown",
      "metadata": {
        "id": "jI-myHPyOdGy"
      },
      "source": [
        "##Example 3"
      ]
    },
    {
      "cell_type": "code",
      "metadata": {
        "colab": {
          "base_uri": "https://localhost:8080/"
        },
        "id": "YvRU8ShmOe_r",
        "outputId": "67870004-c299-4fac-c092-9085578e31a8"
      },
      "source": [
        "num=float(input(\"Enter your grade:\"))\n",
        "\n",
        "if num>=75:\n",
        "  print(\"Passed\")\n",
        "elif 74<num<75:\n",
        "  print(\"Remedial\")\n",
        "else:\n",
        "  print(\"Failed\")"
      ],
      "execution_count": 30,
      "outputs": [
        {
          "output_type": "stream",
          "name": "stdout",
          "text": [
            "Enter your grade:74\n",
            "Failed\n"
          ]
        }
      ]
    }
  ]
}