{
  "nbformat": 4,
  "nbformat_minor": 0,
  "metadata": {
    "colab": {
      "name": "Final Exam.ipynb",
      "provenance": [],
      "collapsed_sections": [],
      "authorship_tag": "ABX9TyP1P1wCCZGQDkInlgHeL9Xb",
      "include_colab_link": true
    },
    "kernelspec": {
      "name": "python3",
      "display_name": "Python 3"
    },
    "language_info": {
      "name": "python"
    }
  },
  "cells": [
    {
      "cell_type": "markdown",
      "metadata": {
        "id": "view-in-github",
        "colab_type": "text"
      },
      "source": [
        "<a href=\"https://colab.research.google.com/github/Landzkii/CPEN-21A-CPE-1-2/blob/main/Final_Exam.ipynb\" target=\"_parent\"><img src=\"https://colab.research.google.com/assets/colab-badge.svg\" alt=\"Open In Colab\"/></a>"
      ]
    },
    {
      "cell_type": "markdown",
      "source": [
        "##Problem Statement No 1"
      ],
      "metadata": {
        "id": "ua1QtLznaqLk"
      }
    },
    {
      "cell_type": "code",
      "source": [
        "total=0\n",
        "for i in range(10):\n",
        "  i=float(input(\"Enter a number: \"))\n",
        "\n",
        "  if i>=5:\n",
        "    print(\"All numbers must be less than 5\")\n",
        "    break\n",
        "  \n",
        "  elif i<5:\n",
        "    total=i+total\n",
        "    print(\"Sum of numbers less than 5 is: \", total)\n"
      ],
      "metadata": {
        "colab": {
          "base_uri": "https://localhost:8080/"
        },
        "id": "WD82EFXMaucU",
        "outputId": "203cd508-41f2-4819-e206-8e1197ec5f78"
      },
      "execution_count": null,
      "outputs": [
        {
          "output_type": "stream",
          "name": "stdout",
          "text": [
            "Enter a number: 4\n",
            "Sum of numbers less than 5 is:  4.0\n",
            "Enter a number: 3\n",
            "Sum of numbers less than 5 is:  7.0\n",
            "Enter a number: 8\n",
            "All numbers must be less than 5\n"
          ]
        }
      ]
    },
    {
      "cell_type": "markdown",
      "source": [
        "##Problem Statement No.2\n"
      ],
      "metadata": {
        "id": "IeOHAobDg8GZ"
      }
    },
    {
      "cell_type": "code",
      "source": [
        "x=0\n",
        "y=[]\n",
        "\n",
        "while True:\n",
        "  if x==5:\n",
        "    print(\"The sum of first and last number is: \", y[0]+y[-1])\n",
        "    break\n",
        "  else:\n",
        "    g=int(input(\"Enter a number: \"))\n",
        "    y.append(g)\n",
        "    x=x+1"
      ],
      "metadata": {
        "id": "Au2riwH7hABl",
        "colab": {
          "base_uri": "https://localhost:8080/"
        },
        "outputId": "98f2144c-57eb-4098-c5db-b614f71398a0"
      },
      "execution_count": null,
      "outputs": [
        {
          "output_type": "stream",
          "name": "stdout",
          "text": [
            "Enter a number: -5\n",
            "Enter a number: 4\n",
            "Enter a number: 2\n",
            "Enter a number: 10\n",
            "Enter a number: -10\n",
            "The sum of first and last number is:  -15\n"
          ]
        }
      ]
    },
    {
      "cell_type": "markdown",
      "source": [
        "##Problem Statement #3"
      ],
      "metadata": {
        "id": "ElBcx3rIFL6M"
      }
    },
    {
      "cell_type": "code",
      "source": [
        "Math = float(input(\"Enter your Math grade: \"))\n",
        "English = float(input(\"Enter your English grade: \"))\n",
        "Filipino = float(input(\"Enter your Filipino grade: \"))\n",
        "PE = float(input(\"Enter your PE grade: \"))\n",
        "CPEN = float(input(\"Enter your CPEN grade: \"))\n",
        "\n",
        "grade=0\n",
        "grade = Math+English+Filipino+PE+CPEN\n",
        "A = grade/5\n",
        "\n",
        "if A>=90:\n",
        "    print(\"Your grade remark is A\")\n",
        "else:\n",
        "  if 90>A>=80:\n",
        "    print(\"Your grade is B\")\n",
        "  else:\n",
        "    if 80>A>=70:\n",
        "      print(\"Your grade is C\")\n",
        "    else:\n",
        "      if 70>A>=60:\n",
        "        print(\"Your grade is D\")\n",
        "      else:\n",
        "        if A<60:\n",
        "          print(\"Your grade is F\")\n",
        "\n",
        "print(\"Your total average is \", A)\n"
      ],
      "metadata": {
        "colab": {
          "base_uri": "https://localhost:8080/"
        },
        "id": "Uh7SgRKnFOw_",
        "outputId": "975e8baa-6742-4567-b7ee-f3208815a0f5"
      },
      "execution_count": null,
      "outputs": [
        {
          "output_type": "stream",
          "name": "stdout",
          "text": [
            "Enter your Math grade: 87\n",
            "Enter your English grade: 87\n",
            "Enter your Filipino grade: 85\n",
            "Enter your PE grade: 89.54\n",
            "Enter your CPEN grade: 84\n",
            "Your grade is B\n",
            "Your total average is  86.50800000000001\n"
          ]
        }
      ]
    }
  ]
}