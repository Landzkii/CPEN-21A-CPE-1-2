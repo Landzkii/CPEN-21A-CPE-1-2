{
  "nbformat": 4,
  "nbformat_minor": 0,
  "metadata": {
    "colab": {
      "name": "Lab1.ipynb",
      "provenance": [],
      "authorship_tag": "ABX9TyMMCnfWtT7zDH/v8WXnhKAd",
      "include_colab_link": true
    },
    "kernelspec": {
      "name": "python3",
      "display_name": "Python 3"
    },
    "language_info": {
      "name": "python"
    }
  },
  "cells": [
    {
      "cell_type": "markdown",
      "metadata": {
        "id": "view-in-github",
        "colab_type": "text"
      },
      "source": [
        "<a href=\"https://colab.research.google.com/github/Landzkii/CPEN-21A-CPE-1-2/blob/main/Lab1.ipynb\" target=\"_parent\"><img src=\"https://colab.research.google.com/assets/colab-badge.svg\" alt=\"Open In Colab\"/></a>"
      ]
    },
    {
      "cell_type": "markdown",
      "metadata": {
        "id": "ZGzUSS23-ugw"
      },
      "source": [
        "##Laboratory 1\n"
      ]
    },
    {
      "cell_type": "code",
      "metadata": {
        "colab": {
          "base_uri": "https://localhost:8080/"
        },
        "id": "Ibm4lyf2-xdY",
        "outputId": "b3b7f9d7-997f-439f-a553-af4d4d49addc"
      },
      "source": [
        "print (\"Welcome to Python Programming\")"
      ],
      "execution_count": 1,
      "outputs": [
        {
          "output_type": "stream",
          "name": "stdout",
          "text": [
            "Welcome to Python Programming\n"
          ]
        }
      ]
    },
    {
      "cell_type": "code",
      "metadata": {
        "colab": {
          "base_uri": "https://localhost:8080/"
        },
        "id": "T5ZWxaQA-1u2",
        "outputId": "46154073-81ab-4bd0-95cc-89d35db70572"
      },
      "source": [
        "name = \"Landon S. Lorica\"\n",
        "address = \"Blk 58 Lt 5 Sampaguita Village, Brgy. Inocencio, Trece Martires City, Cavite\"\n",
        "age = \"19\"\n",
        "\n",
        "print (\"My name is \" + name)\n",
        "print (\"I live in \" + address)\n",
        "print (\"I am \" + age + \" years old\")"
      ],
      "execution_count": 2,
      "outputs": [
        {
          "output_type": "stream",
          "name": "stdout",
          "text": [
            "My name is Landon S. Lorica\n",
            "I live in Blk 58 Lt 5 Sampaguita Village, Brgy. Inocencio, Trece Martires City, Cavite\n",
            "I am 19 years old\n"
          ]
        }
      ]
    }
  ]
}