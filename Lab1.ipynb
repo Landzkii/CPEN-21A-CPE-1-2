{
  "nbformat": 4,
  "nbformat_minor": 0,
  "metadata": {
    "colab": {
      "name": "Lab1.ipynb",
      "provenance": [],
      "authorship_tag": "ABX9TyPIRR2nUo8VfFIM534vR9SN",
      "include_colab_link": true
    },
    "kernelspec": {
      "name": "python3",
      "display_name": "Python 3"
    },
    "language_info": {
      "name": "python"
    }
  },
  "cells": [
    {
      "cell_type": "markdown",
      "metadata": {
        "id": "view-in-github",
        "colab_type": "text"
      },
      "source": [
        "<a href=\"https://colab.research.google.com/github/Landzkii/CPEN-21A-CPE-1-2/blob/main/Lab1.ipynb\" target=\"_parent\"><img src=\"https://colab.research.google.com/assets/colab-badge.svg\" alt=\"Open In Colab\"/></a>"
      ]
    },
    {
      "cell_type": "markdown",
      "metadata": {
        "id": "hNr7DJr84t_t"
      },
      "source": [
        "##Laboratory 1"
      ]
    },
    {
      "cell_type": "code",
      "metadata": {
        "colab": {
          "base_uri": "https://localhost:8080/"
        },
        "id": "-JIfyio048Qa",
        "outputId": "9ced5ea6-1717-4447-c2de-6377f2d6e72f"
      },
      "source": [
        "print (\"Welcome to Python Programming\")"
      ],
      "execution_count": 1,
      "outputs": [
        {
          "output_type": "stream",
          "name": "stdout",
          "text": [
            "Welcome to Python Programming\n"
          ]
        }
      ]
    },
    {
      "cell_type": "code",
      "metadata": {
        "colab": {
          "base_uri": "https://localhost:8080/"
        },
        "id": "eq0JT0E05CGR",
        "outputId": "e9c6396f-840f-40ff-fac7-96484b168908"
      },
      "source": [
        "name = \"Landon S. Lorica\"\n",
        "address = \"Blk 58 Lt 5 Sampaguita Village, Brgy. Inocencio, Trece Martires City, Cavite\"\n",
        "age = \"19\"\n",
        "\n",
        "print (\"My name is \" + name)\n",
        "print (\"I live in \" + address)\n",
        "print (\"I am \" + age + \" years old\")\n"
      ],
      "execution_count": 8,
      "outputs": [
        {
          "output_type": "stream",
          "name": "stdout",
          "text": [
            "My name is Landon S. Lorica\n",
            "I live in Blk 58 Lt 5 Sampaguita Village, Brgy. Inocencio, Trece Martires City, Cavite\n",
            "I am 19 years old\n"
          ]
        }
      ]
    }
  ]
}