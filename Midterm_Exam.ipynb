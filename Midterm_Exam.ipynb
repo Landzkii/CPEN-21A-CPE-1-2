{
  "nbformat": 4,
  "nbformat_minor": 0,
  "metadata": {
    "colab": {
      "name": "Midterm Exam.ipynb",
      "provenance": [],
      "authorship_tag": "ABX9TyPGC0zapORizGphwoVunI/G",
      "include_colab_link": true
    },
    "kernelspec": {
      "name": "python3",
      "display_name": "Python 3"
    },
    "language_info": {
      "name": "python"
    }
  },
  "cells": [
    {
      "cell_type": "markdown",
      "metadata": {
        "id": "view-in-github",
        "colab_type": "text"
      },
      "source": [
        "<a href=\"https://colab.research.google.com/github/Landzkii/CPEN-21A-CPE-1-2/blob/main/Midterm_Exam.ipynb\" target=\"_parent\"><img src=\"https://colab.research.google.com/assets/colab-badge.svg\" alt=\"Open In Colab\"/></a>"
      ]
    },
    {
      "cell_type": "markdown",
      "metadata": {
        "id": "Iy_1y0SABh8-"
      },
      "source": [
        "### Midterm Exam\n"
      ]
    },
    {
      "cell_type": "markdown",
      "metadata": {
        "id": "BW_cBnQiCQlb"
      },
      "source": [
        "#### Problem Statement 1\n"
      ]
    },
    {
      "cell_type": "code",
      "metadata": {
        "colab": {
          "base_uri": "https://localhost:8080/"
        },
        "id": "DI_Phmb6BlQm",
        "outputId": "2a76aa7d-1d3b-41ee-da12-b301a6876821"
      },
      "source": [
        "fullname = \"Landon Sarmiento Lorica\"\n",
        "studentnumber = \"202106458\"\n",
        "yrsold = \"19\"\n",
        "birthday = \"September 5, 2002\"\n",
        "address = \"Blk 58 Lt 5, Solomon St. Sampaguita Village, Brgy. Inocencio, Trece Martires City, Cavite\"\n",
        "course = \"Bachelor of Science in Computer Engineering\"\n",
        "LastSemGWA = \"92\"\n",
        "\n",
        "print (\"My name is \" + fullname)\n",
        "print (\"My student number is \" + studentnumber)\n",
        "print (\"My age is \" + yrsold + \" years old\")\n",
        "print (\"My birthday is on \" + birthday)\n",
        "print (\"My current address is at \" + address)\n",
        "print (\"My current course is \" + course)\n",
        "print (\"My grade last semester is \" + LastSemGWA)\n"
      ],
      "execution_count": 12,
      "outputs": [
        {
          "output_type": "stream",
          "name": "stdout",
          "text": [
            "My name is Landon Sarmiento Lorica\n",
            "My student number is 202106458\n",
            "My age is 19 years old\n",
            "My birthday is on September 5, 2002\n",
            "My current address is at Blk 58 Lt 5, Solomon St. Sampaguita Village, Brgy. Inocencio, Trece Martires City, Cavite\n",
            "My current course is Bachelor of Science in Computer Engineering\n",
            "My grade last semester is 92\n"
          ]
        }
      ]
    },
    {
      "cell_type": "markdown",
      "metadata": {
        "id": "oBK3AYOlFDcx"
      },
      "source": [
        "####Problem Statement 2"
      ]
    },
    {
      "cell_type": "code",
      "metadata": {
        "colab": {
          "base_uri": "https://localhost:8080/"
        },
        "id": "856ybwngFGUz",
        "outputId": "44eccefc-bc0e-4a5b-e856-43c4db947ce6"
      },
      "source": [
        "n = 4\n",
        "answ = \"y\"\n",
        "\n",
        "print(bool(2<n) and (n<6))   #lettera\n",
        "print(bool(2<n) or (n==6)) #letterb\n",
        "print(bool(not (2<n) or (n==6))) #letterc\n",
        "print(bool(not (n<6))) #letterd\n",
        "print(bool(answ==\"Y\") or (answ==\"y\")) #lettere\n",
        "print(bool(answ==\"Y\") and (answ==\"y\")) #letterf\n",
        "print(bool(not(answ==\"y\"))) #letterg\n",
        "print(bool((2<n) and (n==5+1)) or (answ==\"No\")) #letterh\n",
        "print(bool((n==2) and (n==7)) or (answ==\"Y\")) #letteri\n",
        "print(bool(n==2) and ((n==7) or (answ==\"Y\"))) #letterj\n",
        "\n"
      ],
      "execution_count": 57,
      "outputs": [
        {
          "output_type": "stream",
          "name": "stdout",
          "text": [
            "True\n",
            "True\n",
            "False\n",
            "False\n",
            "True\n",
            "False\n",
            "False\n",
            "False\n",
            "False\n",
            "False\n"
          ]
        }
      ]
    },
    {
      "cell_type": "markdown",
      "metadata": {
        "id": "6bL2PL8EKLzm"
      },
      "source": [
        "###Problem Statement 3"
      ]
    },
    {
      "cell_type": "code",
      "metadata": {
        "colab": {
          "base_uri": "https://localhost:8080/"
        },
        "id": "dIouG3e7KPfj",
        "outputId": "2d44fd1f-3ba8-498d-ac48-2b25791064b3"
      },
      "source": [
        "x,y,w,z = 2,-3,7,-10\n",
        "\n",
        "print(x/y) #letterA\n",
        "print(w/y/x) #letterB\n",
        "print(z/y%x) #letterC\n",
        "print(x%-y*w) #letterD\n",
        "print(x%y) #letterE\n",
        "print(z%w-y/x*5+5) #letterF\n",
        "print(9-x%(2+y)) #letterG\n",
        "print(z//w) #letterH\n",
        "print((2+y)**2) #letterI\n",
        "print(w/x*2) #letterJ\n"
      ],
      "execution_count": 49,
      "outputs": [
        {
          "output_type": "stream",
          "name": "stdout",
          "text": [
            "-0.6666666666666666\n",
            "-1.1666666666666667\n",
            "1.3333333333333335\n",
            "14\n",
            "-1\n",
            "16.5\n",
            "9\n",
            "-2\n",
            "1\n",
            "7.0\n"
          ]
        }
      ]
    },
    {
      "cell_type": "markdown",
      "metadata": {
        "id": "ei5m5cXbFwiW"
      },
      "source": [
        ""
      ]
    }
  ]
}